{
  "nbformat": 4,
  "nbformat_minor": 0,
  "metadata": {
    "colab": {
      "name": "Expectation",
      "provenance": [],
      "authorship_tag": "ABX9TyPTEDQOnZ7o8sxjaWn5CT9n",
      "include_colab_link": true
    },
    "kernelspec": {
      "name": "python3",
      "display_name": "Python 3"
    }
  },
  "cells": [
    {
      "cell_type": "markdown",
      "metadata": {
        "id": "view-in-github",
        "colab_type": "text"
      },
      "source": [
        "<a href=\"https://colab.research.google.com/github/ZachPetroff/Babybot/blob/master/Expectation.ipynb\" target=\"_parent\"><img src=\"https://colab.research.google.com/assets/colab-badge.svg\" alt=\"Open In Colab\"/></a>"
      ]
    },
    {
      "cell_type": "code",
      "metadata": {
        "id": "idAfaFYLxDOo",
        "cellView": "both"
      },
      "source": [
        "import matplotlib.pyplot as plt\n",
        "import numpy as np\n",
        "\n",
        "class Mobile:\n",
        "  def __init__(self, average_window=.5):\n",
        "    self.moving = False # the mobile moving either moving or not moving \n",
        "    self.reward_window = 0 # The period of time the mobile has left to move\n",
        "    self.average_window = average_window # The amount of time possible for the mobile to move\n",
        "    self.moves = [] # a list of one's and zero's, describing mobile movements over time\n",
        "\n",
        "  # causes the mobile to move, and sets the period of time it moves for \n",
        "  def create_window(self):\n",
        "    self.reward_window = np.random.exponential(self.average_window)\n",
        "    self.moving = True\n",
        "  \n",
        "  # Decreases the window as time progresses, or if the reward window is at zero, causes the mobile to stop moving\n",
        "  def decrease_window(self, dt):\n",
        "    if self.moving:\n",
        "      self.reward_window -= dt\n",
        "      if self.reward_window <= 0:\n",
        "        self.reward_window = 0\n",
        "        self.moving = False\n",
        "\n",
        "class Babybot:\n",
        "  def __init__(self, rates=[20, 20, 20, 20], reward=.06, punishment=.06, expectation_growth=6e-9,\n",
        "      expectation_decay=1.5, connected=False, connected_limb=\"right arm\", timestep=1/60,\n",
        "      non_contigent=False, nc_rate=.8, mobile_on=True, mobile_window=0.025):\n",
        "    self.rates = rates # rates per minute of each limb moving\n",
        "    self.reward = reward # boost in rate per minute for each rewarded movement\n",
        "    self.punishment = punishment # removal of rate per minute for each non-rewarded movement\n",
        "    self.expectation = [0, 0, 0, 0] # subtracted from both reward and punishment\n",
        "    self.expectation_growth = expectation_growth # growth of expectation for each rewarded movement\n",
        "    self.expectation_decay = expectation_decay # decay of expectation for each non-rewarded movement\n",
        "    self.connected = False\n",
        "    self.limbs = ['right arm', 'left arm', 'right leg', 'left leg']\n",
        "    self.connected_limb = self.limbs.index(connected_limb)\n",
        "    self.move_counter = [0, 0, 0, 0] # number of moves that actually occurred per minute\n",
        "    self.timestep = timestep # timestep size in minutes\n",
        "   \n",
        "    self.non_contigent = non_contigent # Determines whether the extinction period will have a non-contingent reward\n",
        "    self.nc_rate = nc_rate # If the extinction has an non-contingent reward, this sets the rate of that non-contingent reward\n",
        "    \n",
        "    self.mobile_on = mobile_on # Determines whether the actions of the mobile will be taken into account\n",
        "    self.mobile = Mobile(mobile_window) # An object created from the mobile class\n",
        "    self.rates_moving = list(rates) # If the mobile dynamics are included, this keeps track of the rates while the mobile is moving\n",
        "    \n",
        "  def update_ranges(self, moves):\n",
        "    # if the limb is connected, a reward is given and expectation for a reward grows\n",
        "    if (self.connected and moves[self.connected_limb] and not self.mobile.moving) \\\n",
        "      or (self.non_contigent and np.random.random() < self.nc_rate  # if the extinction period is non contingent\n",
        "          and not self.connected and (self.expectation > 0).any()): # reward state\n",
        "      for limb in range(len(self.limbs)):\n",
        "        # creates the peaking effect shown in data, the movements peak around 35 and then decrease to around 30 (fatigue, boredom)\n",
        "        self.rates[limb] += (self.reward - self.expectation[limb]) * moves[limb]  # increases rates if reward > expectation, decreases otherwise\n",
        "        \n",
        "        self.expectation[limb] += self.expectation_growth * moves[limb]  \n",
        "        \n",
        "        self.rates = np.clip(self.rates, 0 , 45)  # sets a minimum of 0 and a maximum of 45 for the rates\n",
        "        \n",
        "      if self.mobile_on == True:\n",
        "        self.mobile.create_window()  #  when the connected limb moves, this causes the mobile to move\n",
        "            \n",
        "    elif self.mobile.moving:\n",
        "      for limb in range(len(self.limbs)):\n",
        "          self.rates_moving[limb] -= (self.punishment - self.expectation[limb]) * moves[limb] \n",
        "          self.expectation[limb] -= self.expectation_decay * moves[limb] # creates decrease in movement at the end of the disconnected state\n",
        "          if self.expectation[limb] < 0: self.expectation[limb] = 0  # the expectation can never be negative\n",
        "        \n",
        "    else: # disconnected\n",
        "      # the expectation for a reward will increase movement when reward is not given (frustration)\n",
        "      for limb in range(len(self.limbs)):\n",
        "          self.rates[limb] -= (self.punishment - self.expectation[limb]) * moves[limb]\n",
        "          self.expectation[limb] -= self.expectation_decay * moves[limb] # creates decrease in movement at the end of the disconnected state\n",
        "          if self.expectation[limb] < 0: self.expectation[limb] = 0\n",
        "\n",
        "  def move(self):\n",
        "    if self.mobile_on == True:\n",
        "        self.mobile.decrease_window(self.timestep)  # decreases while mobile is moving, until the mobile eventually comes to a halt\n",
        "    moves = [] # contains which limbs should be updated\n",
        "    for limb in range(len(self.limbs)):\n",
        "      if self.mobile.moving:\n",
        "          rate_per_timestep = self.timestep * self.rates_moving[limb]  # if the mobile is moving, the moving rates are taken into account\n",
        "      else:\n",
        "          rate_per_timestep = self.timestep * self.rates[limb]\n",
        "      # safe to perform Bernoulli approximation\n",
        "      if rate_per_timestep < .1:\n",
        "        r = np.random.random()\n",
        "        if r < rate_per_timestep:\n",
        "          move = 1\n",
        "        else:\n",
        "          move = 0\n",
        "      # it is reasonably possible that >1 movement will occur\n",
        "      else:\n",
        "        move = np.random.poisson(rate_per_timestep)\n",
        "      moves.append(move)\n",
        "    self.update_ranges(moves)\n",
        "    return moves\n",
        "\n",
        "  def one_cycle(self, n_minutes=25, connected=[False]*4+[True]*16+[False]*5):\n",
        "    r_arm_moves = []\n",
        "    l_arm_moves = []\n",
        "    r_leg_moves = []\n",
        "    l_leg_moves = []\n",
        "\n",
        "    r_arm_expectations = []\n",
        "    l_arm_expectations = []\n",
        "    r_leg_expectations = []\n",
        "    l_leg_expectations = []\n",
        "    \n",
        "    connected_moves = []  # moves per second of the connected limb\n",
        "    \n",
        "    nr = []  # non-moving rates per minute\n",
        "    mr = []  # moving rates per minute\n",
        "\n",
        "    mins = []\n",
        "    steps_per_min = int(1/self.timestep)\n",
        "    for min in range(n_minutes):\n",
        "      self.move_counter = [0, 0, 0, 0]\n",
        "      self.connected = connected[min]\n",
        "      nr.append(self.rates[self.connected_limb])\n",
        "      mr.append(self.rates_moving[self.connected_limb])\n",
        "      for step in range(steps_per_min):\n",
        "        moves = self.move()\n",
        "        connected_moves.append(moves[self.connected_limb])\n",
        "        \n",
        "        if self.mobile.moving:           # updates mobile moves: 1 = moving, 0 = not moving\n",
        "            self.mobile.moves.append(1)\n",
        "        else:\n",
        "            self.mobile.moves.append(0)\n",
        "            \n",
        "        for limb in range(len(moves)):\n",
        "          self.move_counter[limb] += moves[limb]\n",
        "      mins.append(min)\n",
        "      r_arm_moves.append(self.move_counter[0])\n",
        "      l_arm_moves.append(self.move_counter[1])\n",
        "      r_leg_moves.append(self.move_counter[2])\n",
        "      l_leg_moves.append(self.move_counter[3])\n",
        "\n",
        "      r_arm_expectations.append(self.expectation[0])\n",
        "      l_arm_expectations.append(self.expectation[1])\n",
        "      r_leg_expectations.append(self.expectation[2])\n",
        "      l_leg_expectations.append(self.expectation[3])\n",
        "\n",
        "     \n",
        "    return r_arm_moves, l_arm_moves, r_leg_moves, l_leg_moves, r_arm_expectations, l_arm_expectations, r_leg_expectations, l_leg_expectations, mins, connected_moves, self.mobile.moves, nr, mr\n",
        "        "
      ],
      "execution_count": null,
      "outputs": []
    },
    {
      "cell_type": "code",
      "metadata": {
        "id": "r6P3qRsiwvyP",
        "outputId": "ec3f0a88-13a8-4410-bb8c-31b3e1b00476",
        "colab": {
          "base_uri": "https://localhost:8080/",
          "height": 50
        }
      },
      "source": [
        "num_infants = 100\n",
        "connection = np.array([False]*10+[True]*30+[False]*20)  # connection for each minute\n",
        "n_minutes = len(connection)\n",
        "timestep = 1/120 # 1 / the number of steps per minute\n",
        "\n",
        "reward = .06 #@param\n",
        "\n",
        "punishment= .0075 #@param\n",
        "\n",
        "expectation_growth= 1e-4 #@param\n",
        "\n",
        "expectation_decay= 3e-4 #@param\n",
        "\n",
        "connection_labels = []\n",
        "prev_connection = False\n",
        "counter = 0\n",
        "for c in range(len(connection)):\n",
        "    if prev_connection == connection[c]:\n",
        "        counter += 1\n",
        "    else:\n",
        "        if len(connection_labels) < 1:\n",
        "            connection_labels.append(counter/2)\n",
        "        else:\n",
        "            connection_labels.append(counter/2 + connection_labels[-1]*2)\n",
        "        counter = 0\n",
        "        prev_connection = connection[c]\n",
        "\n",
        "# limb movements\n",
        "ram_mean = np.zeros((n_minutes,))\n",
        "lam_mean = np.zeros((n_minutes,))\n",
        "rlm_mean = np.zeros((n_minutes,))\n",
        "llm_mean = np.zeros((n_minutes,))\n",
        "\n",
        "# limb expectations\n",
        "rae_mean = np.zeros((n_minutes,))\n",
        "lae_mean = np.zeros((n_minutes,))\n",
        "rle_mean = np.zeros((n_minutes,))\n",
        "lle_mean = np.zeros((n_minutes,))\n",
        "\n",
        "for infant in range(num_infants):\n",
        "      babybot = Babybot(rates=[20, 20, 20, 20],reward=reward,punishment=punishment,expectation_growth=expectation_growth,expectation_decay=expectation_decay, timestep=timestep, mobile_on=False)\n",
        "\n",
        "      ram, lam, rlm, llm, rae, lae, rle, lle, mins, cms, mms, nr, mr = babybot.one_cycle(n_minutes, connection)\n",
        "      ram_mean += ram\n",
        "      lam_mean += lam\n",
        "      rlm_mean += rlm\n",
        "      llm_mean += llm\n",
        "\n",
        "      rae_mean += rae\n",
        "      lae_mean += lae\n",
        "      rle_mean += rle\n",
        "      lle_mean += lle\n",
        "      \n",
        "ram_mean = ram_mean / num_infants\n",
        "lam_mean = lam_mean / num_infants\n",
        "rlm_mean = rlm_mean / num_infants\n",
        "llm_mean = llm_mean / num_infants\n",
        "\n",
        "rae_mean = rae_mean / num_infants\n",
        "lae_mean = lae_mean / num_infants\n",
        "rle_mean = rle_mean / num_infants\n",
        "lle_mean = lle_mean / num_infants\n",
        "\n",
        "max_connected = max(ram_mean[connection])\n",
        "max_disconnected = max(ram_mean[np.logical_not(connection)])\n",
        "\n",
        "print(\"Maximum movements while connected: \", max_connected)\n",
        "print(\"Maximum movements while disconnected: \", max_disconnected)\n",
        "\n",
        "connection_changes = np.where(connection[1:]^connection[:-1])[0]\n",
        "\n",
        "seperations = [0]\n",
        "\n",
        "if len(connection_changes) > 2:\n",
        "    for change in range(len(connection_changes)):\n",
        "        if change % 2 == 0 and change != 0:\n",
        "            seperations.append(int(connection_changes[change] - ((connection_changes[change] - connection_changes[change-1])/2)))\n",
        "\n",
        "seperations.append(len(connection))"
      ],
      "execution_count": null,
      "outputs": [
        {
          "output_type": "stream",
          "text": [
            "Maximum movements while connected:  37.27\n",
            "Maximum movements while disconnected:  44.4\n"
          ],
          "name": "stdout"
        }
      ]
    },
    {
      "cell_type": "code",
      "metadata": {
        "id": "eoPx7rXi0p7H",
        "cellView": "both",
        "outputId": "6ba2d531-0d3c-4e1f-ad43-27096b405f4a",
        "colab": {
          "base_uri": "https://localhost:8080/",
          "height": 310
        }
      },
      "source": [
        "# plot list of mean movements of each limb\n",
        "for seperation in range(len(seperations)):\n",
        "    if seperation != 0:\n",
        "        plt.plot(mins[seperations[seperation-1]:seperations[seperation]], ram_mean[seperations[seperation-1]:seperations[seperation]], 'red', label=\"Connected Limb Movements\")\n",
        "        plt.plot(mins[seperations[seperation-1]:seperations[seperation]], lam_mean[seperations[seperation-1]:seperations[seperation]], 'black', label=\"Disconnected Limb Movements\")\n",
        "        plt.plot(mins[seperations[seperation-1]:seperations[seperation]], rlm_mean[seperations[seperation-1]:seperations[seperation]], 'black')\n",
        "        plt.plot(mins[seperations[seperation-1]:seperations[seperation]], llm_mean[seperations[seperation-1]:seperations[seperation]], 'black')\n",
        "        plt.legend()\n",
        "        \n",
        "        if connection[0]:\n",
        "            prev_connected = True\n",
        "        else:\n",
        "            prev_connected = False\n",
        "  \n",
        "        last_loc = 0\n",
        "        max_y = max(max_connected, max_disconnected)-1\n",
        "\n",
        "        for loc in list(connection_changes)+[n_minutes]:\n",
        "            av_loc = (last_loc + loc)/2\n",
        "            last_loc = loc\n",
        "            prev_connected = not prev_connected\n",
        "            plt.axvline(loc, color='black', linestyle='dashed')\n",
        "        plt.xlim(seperations[seperation-1], seperations[seperation])\n",
        "        plt.ylim(0, None)\n",
        "        plt.ylabel(\"Movements\")\n",
        "        plt.xlabel(\"Minutes\")\n",
        "        plt.title(\"Session {}\".format(seperation) + \"\\n\" + \"Disconnected\" + \" \"*15 + \"Connected\" + \" \"*15 + \"Disconnected\")\n",
        "        plt.show()"
      ],
      "execution_count": null,
      "outputs": [
        {
          "output_type": "display_data",
          "data": {
            "image/png": "[encoded data removed]",
            "text/plain": [
              "<Figure size 432x288 with 1 Axes>"
            ]
          },
          "metadata": {
            "tags": [],
            "needs_background": "light"
          }
        }
      ]
    },
    {
      "cell_type": "markdown",
      "metadata": {
        "id": "_NILNlkNbAWS"
      },
      "source": [
        "# Movements Over Time\n",
        "The figure above displays the moves of the connected limb over time.\n",
        "As the babybot moves their connected limb during the connected phase, \n",
        "and thus, move the mobile, they recieve a visual reward, encouraging \n",
        "the movement of the connected limb. However, as the reward is given, \n",
        "expectation for that reward is also given. Expectation begins to \n",
        "decrease limb movement, as seen after minute thirty. This can be \n",
        "thought of as fatigue or boredom. Though, when the contingent reward is\n",
        "taken away, the same expectation value causes a rapid increase of movements.\n",
        "This is known as an \"extinction burst\"."
      ]
    },
    {
      "cell_type": "code",
      "metadata": {
        "id": "EIYgn7390wD1",
        "cellView": "both",
        "outputId": "3bdfa8a1-fe60-4e82-c0d5-7090438ea396",
        "colab": {
          "base_uri": "https://localhost:8080/",
          "height": 295
        }
      },
      "source": [
        "# plot expectations\n",
        "plt.plot(mins, rae_mean, 'red', label=\"Connected Limbs\")\n",
        "plt.plot(mins, lae_mean, \"black\", label=\"Disconnected Limbs\")\n",
        "plt.plot(mins, rle_mean, \"black\")\n",
        "plt.plot(mins, lle_mean, \"black\")\n",
        "plt.plot([0, 60], [reward, reward], \"yellow\", label=\"Reward\")\n",
        "plt.xlabel(\"Minutes\")\n",
        "plt.ylabel(\"Expectation\")\n",
        "plt.title(\"Expectation Over Time\")\n",
        "\n",
        "for loc in list(connection_changes):\n",
        "      av_loc = (last_loc + loc)/2\n",
        "      last_loc = loc\n",
        "      prev_connected = not prev_connected\n",
        "      plt.axvline(loc, color='black', linestyle='dashed')\n",
        "\n",
        "plt.legend()\n",
        "plt.show()"
      ],
      "execution_count": null,
      "outputs": [
        {
          "output_type": "display_data",
          "data": {
            "image/png": "[encoded data removed]",
            "text/plain": [
              "<Figure size 432x288 with 1 Axes>"
            ]
          },
          "metadata": {
            "tags": [],
            "needs_background": "light"
          }
        }
      ]
    },
    {
      "cell_type": "markdown",
      "metadata": {
        "id": "smRlkpFK21O7"
      },
      "source": [
        "# Expectation Over Time\n",
        "From the graph above, we can see that expectation begins to rise as soon as\n",
        "the limb is connected. At about minute thirty, expectation surpasses the reward\n",
        "value, causing a decrease in limb movements. However, once the reward is no \n",
        "longer attainable during the disconnect phase, expectation for a reward begins \n",
        "to increase limb movements as the infant tries to regain the lost reward."
      ]
    }
  ]
}