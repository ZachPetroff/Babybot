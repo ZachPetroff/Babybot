{
  "nbformat": 4,
  "nbformat_minor": 0,
  "metadata": {
    "colab": {
      "name": "Model Evaluation",
      "provenance": [],
      "authorship_tag": "ABX9TyPeu5wWT/ucZf6e5kkilOA4",
      "include_colab_link": true
    },
    "kernelspec": {
      "name": "python3",
      "display_name": "Python 3"
    }
  },
  "cells": [
    {
      "cell_type": "markdown",
      "metadata": {
        "id": "view-in-github",
        "colab_type": "text"
      },
      "source": [
        "<a href=\"https://colab.research.google.com/github/ZachPetroff/Babybot/blob/master/Model_Evaluation.ipynb\" target=\"_parent\"><img src=\"https://colab.research.google.com/assets/colab-badge.svg\" alt=\"Open In Colab\"/></a>"
      ]
    },
    {
      "cell_type": "code",
      "metadata": {
        "id": "ybUhAlYyv9IH"
      },
      "source": [
        "class Evaluation:\n",
        "  def __init__(self, true_classes, predicted_classes, neg=0, pos=1):\n",
        "    self.true_classes = true_classes\n",
        "    self.predicted_classes = predicted_classes\n",
        "    self.n = len(true_classes)\n",
        "    self.neg = neg\n",
        "    self.pos = pos\n",
        "\n",
        "  def accuracy(self):\n",
        "    accuracy = 0\n",
        "    for c in range(self.n):\n",
        "      if self.true_classes[c] == self.predicted_classes[c]:\n",
        "        accuracy += 1\n",
        "    return accuracy / self.n\n",
        "\n",
        "  def precision(self):\n",
        "    true_pos = 0\n",
        "    false_pos = 0\n",
        "    for c in range(self.n):\n",
        "      if self.true_classes[c] == self.predicted_classes[c] == self.pos:\n",
        "        true_pos += 1\n",
        "      if self.true_classes[c] == self.neg != self.predicted_classes[c]:\n",
        "        false_pos += 1\n",
        "    return true_pos / (true_pos + false_pos)\n",
        "\n",
        "  def recall(self):\n",
        "    true_pos = 0\n",
        "    false_neg = 0\n",
        "    for c in range(self.n):\n",
        "      if self.true_classes[c] == self.predicted_classes[c] == self.pos:\n",
        "        true_pos += 1\n",
        "      if self.true_classes[c] == self.pos != self.predicted_classes[c]:\n",
        "        false_neg += 1\n",
        "    return true_pos / (true_pos + false_neg)\n",
        " \n",
        "  def specificity(self):\n",
        "    true_neg = 0\n",
        "    false_pos = 0\n",
        "    for c in range(self.n):\n",
        "      if self.true_classes[c] == self.predicted_classes[c] == self.neg:\n",
        "        true_neg += 1\n",
        "      if self.true_classes[c] == self.neg != self.predicted_classes[c]:\n",
        "        false_pos += 1\n",
        "    return true_neg / (true_neg + false_pos)\n",
        "\n",
        "  def plot_metrics(self):\n",
        "    acc = self.accuracy()\n",
        "    prec = self.precision()\n",
        "    rec = self.recall()\n",
        "    spec = self.specificity()\n",
        "    plt.plot(0, acc, \"ro\", label=\"Accuracy\")\n",
        "    plt.plot(1, prec, \"bo\", label=\"Precision\")\n",
        "    plt.plot(2, rec, \"go\", label=\"Recall\")\n",
        "    plt.plot(3, spec, \"yo\", label=\"Specificity\")\n",
        "    plt.legend()"
      ],
      "execution_count": null,
      "outputs": []
    }
  ]
}