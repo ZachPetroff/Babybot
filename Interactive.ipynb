{
  "nbformat": 4,
  "nbformat_minor": 0,
  "metadata": {
    "colab": {
      "name": "Interactive",
      "provenance": [],
      "authorship_tag": "ABX9TyPob8FbbEWNIg7Z7OT/4zK0",
      "include_colab_link": true
    },
    "kernelspec": {
      "name": "python3",
      "display_name": "Python 3"
    },
    "widgets": {
      "application/vnd.jupyter.widget-state+json": {
        "0c652f2c558d4b3ab0762286487337fd": {
          "model_module": "@jupyter-widgets/controls",
          "model_name": "ButtonModel",
          "state": {
            "_view_name": "ButtonView",
            "style": "IPY_MODEL_b34e6884caa94c64941365f41bb3b3ee",
            "_dom_classes": [],
            "description": "Create Model",
            "_model_name": "ButtonModel",
            "button_style": "",
            "_view_module": "@jupyter-widgets/controls",
            "_model_module_version": "1.5.0",
            "tooltip": "",
            "_view_count": null,
            "disabled": false,
            "_view_module_version": "1.5.0",
            "layout": "IPY_MODEL_1ffa1928dcb545f2b63dabe516de536a",
            "_model_module": "@jupyter-widgets/controls",
            "icon": ""
          }
        },
        "b34e6884caa94c64941365f41bb3b3ee": {
          "model_module": "@jupyter-widgets/controls",
          "model_name": "ButtonStyleModel",
          "state": {
            "_view_name": "StyleView",
            "_model_name": "ButtonStyleModel",
            "_view_module": "@jupyter-widgets/base",
            "_model_module_version": "1.5.0",
            "_view_count": null,
            "button_color": null,
            "font_weight": "",
            "_view_module_version": "1.2.0",
            "_model_module": "@jupyter-widgets/controls"
          }
        },
        "1ffa1928dcb545f2b63dabe516de536a": {
          "model_module": "@jupyter-widgets/base",
          "model_name": "LayoutModel",
          "state": {
            "_view_name": "LayoutView",
            "grid_template_rows": null,
            "right": null,
            "justify_content": null,
            "_view_module": "@jupyter-widgets/base",
            "overflow": null,
            "_model_module_version": "1.2.0",
            "_view_count": null,
            "flex_flow": null,
            "width": null,
            "min_width": null,
            "border": null,
            "align_items": null,
            "bottom": null,
            "_model_module": "@jupyter-widgets/base",
            "top": null,
            "grid_column": null,
            "overflow_y": null,
            "overflow_x": null,
            "grid_auto_flow": null,
            "grid_area": null,
            "grid_template_columns": null,
            "flex": null,
            "_model_name": "LayoutModel",
            "justify_items": null,
            "grid_row": null,
            "max_height": null,
            "align_content": null,
            "visibility": null,
            "align_self": null,
            "height": null,
            "min_height": null,
            "padding": null,
            "grid_auto_rows": null,
            "grid_gap": null,
            "max_width": null,
            "order": null,
            "_view_module_version": "1.2.0",
            "grid_template_areas": null,
            "object_position": null,
            "object_fit": null,
            "grid_auto_columns": null,
            "margin": null,
            "display": null,
            "left": null
          }
        },
        "f389ee4310f745e099d1d66a2059fc16": {
          "model_module": "@jupyter-widgets/output",
          "model_name": "OutputModel",
          "state": {
            "_view_name": "OutputView",
            "msg_id": "",
            "_dom_classes": [],
            "_model_name": "OutputModel",
            "outputs": [
              {
                "output_type": "display_data",
                "metadata": {
                  "tags": []
                },
                "application/vnd.jupyter.widget-view+json": {
                  "model_id": "f3974c72de3243df8abdcfafc7b362b8",
                  "version_minor": 0,
                  "version_major": 2
                },
                "text/plain": "Button(description='Simulate', style=ButtonStyle())"
              },
              {
                "output_type": "display_data",
                "metadata": {
                  "tags": []
                },
                "application/vnd.jupyter.widget-view+json": {
                  "model_id": "52e5d9ccb85d4a639e21f1028d17c84d",
                  "version_minor": 0,
                  "version_major": 2
                },
                "text/plain": "Output()"
              },
              {
                "output_type": "stream",
                "metadata": {
                  "tags": []
                },
                "text": "simulating...\n",
                "stream": "stdout"
              },
              {
                "output_type": "stream",
                "metadata": {
                  "tags": []
                },
                "text": "finished.\n",
                "stream": "stdout"
              },
              {
                "output_type": "display_data",
                "metadata": {
                  "tags": [],
                  "needs_background": "light"
                },
                "image/png": "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\n",
                "text/plain": "<Figure size 432x288 with 1 Axes>"
              }
            ],
            "_view_module": "@jupyter-widgets/output",
            "_model_module_version": "1.0.0",
            "_view_count": null,
            "_view_module_version": "1.0.0",
            "layout": "IPY_MODEL_93d9801ead64476fa847bc5bb1516c5a",
            "_model_module": "@jupyter-widgets/output"
          }
        },
        "93d9801ead64476fa847bc5bb1516c5a": {
          "model_module": "@jupyter-widgets/base",
          "model_name": "LayoutModel",
          "state": {
            "_view_name": "LayoutView",
            "grid_template_rows": null,
            "right": null,
            "justify_content": null,
            "_view_module": "@jupyter-widgets/base",
            "overflow": null,
            "_model_module_version": "1.2.0",
            "_view_count": null,
            "flex_flow": null,
            "width": null,
            "min_width": null,
            "border": null,
            "align_items": null,
            "bottom": null,
            "_model_module": "@jupyter-widgets/base",
            "top": null,
            "grid_column": null,
            "overflow_y": null,
            "overflow_x": null,
            "grid_auto_flow": null,
            "grid_area": null,
            "grid_template_columns": null,
            "flex": null,
            "_model_name": "LayoutModel",
            "justify_items": null,
            "grid_row": null,
            "max_height": null,
            "align_content": null,
            "visibility": null,
            "align_self": null,
            "height": null,
            "min_height": null,
            "padding": null,
            "grid_auto_rows": null,
            "grid_gap": null,
            "max_width": null,
            "order": null,
            "_view_module_version": "1.2.0",
            "grid_template_areas": null,
            "object_position": null,
            "object_fit": null,
            "grid_auto_columns": null,
            "margin": null,
            "display": null,
            "left": null
          }
        },
        "0ccaf9d7e90849dfa1fe38dd852345e2": {
          "model_module": "@jupyter-widgets/controls",
          "model_name": "CheckboxModel",
          "state": {
            "_view_name": "CheckboxView",
            "style": "IPY_MODEL_51aed52fa2f54c1daef8d594d570583f",
            "_dom_classes": [],
            "description": "Mobile Dynamics",
            "_model_name": "CheckboxModel",
            "_view_module": "@jupyter-widgets/controls",
            "_model_module_version": "1.5.0",
            "value": true,
            "_view_count": null,
            "disabled": false,
            "_view_module_version": "1.5.0",
            "indent": true,
            "description_tooltip": null,
            "_model_module": "@jupyter-widgets/controls",
            "layout": "IPY_MODEL_4af8013a60384520a385e48840cb1362"
          }
        },
        "51aed52fa2f54c1daef8d594d570583f": {
          "model_module": "@jupyter-widgets/controls",
          "model_name": "DescriptionStyleModel",
          "state": {
            "_view_name": "StyleView",
            "_model_name": "DescriptionStyleModel",
            "description_width": "",
            "_view_module": "@jupyter-widgets/base",
            "_model_module_version": "1.5.0",
            "_view_count": null,
            "_view_module_version": "1.2.0",
            "_model_module": "@jupyter-widgets/controls"
          }
        },
        "4af8013a60384520a385e48840cb1362": {
          "model_module": "@jupyter-widgets/base",
          "model_name": "LayoutModel",
          "state": {
            "_view_name": "LayoutView",
            "grid_template_rows": null,
            "right": null,
            "justify_content": null,
            "_view_module": "@jupyter-widgets/base",
            "overflow": null,
            "_model_module_version": "1.2.0",
            "_view_count": null,
            "flex_flow": null,
            "width": null,
            "min_width": null,
            "border": null,
            "align_items": null,
            "bottom": null,
            "_model_module": "@jupyter-widgets/base",
            "top": null,
            "grid_column": null,
            "overflow_y": null,
            "overflow_x": null,
            "grid_auto_flow": null,
            "grid_area": null,
            "grid_template_columns": null,
            "flex": null,
            "_model_name": "LayoutModel",
            "justify_items": null,
            "grid_row": null,
            "max_height": null,
            "align_content": null,
            "visibility": null,
            "align_self": null,
            "height": null,
            "min_height": null,
            "padding": null,
            "grid_auto_rows": null,
            "grid_gap": null,
            "max_width": null,
            "order": null,
            "_view_module_version": "1.2.0",
            "grid_template_areas": null,
            "object_position": null,
            "object_fit": null,
            "grid_auto_columns": null,
            "margin": null,
            "display": null,
            "left": null
          }
        },
        "3ede83e5aeba4dcba179fe932304002d": {
          "model_module": "@jupyter-widgets/controls",
          "model_name": "FloatSliderModel",
          "state": {
            "_view_name": "FloatSliderView",
            "style": "IPY_MODEL_57f18e5b1c01411eb46e950016657aa8",
            "_dom_classes": [],
            "description": "Reward:",
            "step": 0.01,
            "_model_name": "FloatSliderModel",
            "orientation": "horizontal",
            "max": 1,
            "_view_module": "@jupyter-widgets/controls",
            "_model_module_version": "1.5.0",
            "value": 0.6,
            "_view_count": null,
            "disabled": false,
            "_view_module_version": "1.5.0",
            "min": 0,
            "continuous_update": true,
            "readout_format": ".2f",
            "description_tooltip": null,
            "readout": true,
            "_model_module": "@jupyter-widgets/controls",
            "layout": "IPY_MODEL_5785fb21c2eb44b591e9d077fae339d5"
          }
        },
        "57f18e5b1c01411eb46e950016657aa8": {
          "model_module": "@jupyter-widgets/controls",
          "model_name": "SliderStyleModel",
          "state": {
            "_view_name": "StyleView",
            "handle_color": null,
            "_model_name": "SliderStyleModel",
            "description_width": "",
            "_view_module": "@jupyter-widgets/base",
            "_model_module_version": "1.5.0",
            "_view_count": null,
            "_view_module_version": "1.2.0",
            "_model_module": "@jupyter-widgets/controls"
          }
        },
        "5785fb21c2eb44b591e9d077fae339d5": {
          "model_module": "@jupyter-widgets/base",
          "model_name": "LayoutModel",
          "state": {
            "_view_name": "LayoutView",
            "grid_template_rows": null,
            "right": null,
            "justify_content": null,
            "_view_module": "@jupyter-widgets/base",
            "overflow": null,
            "_model_module_version": "1.2.0",
            "_view_count": null,
            "flex_flow": null,
            "width": null,
            "min_width": null,
            "border": null,
            "align_items": null,
            "bottom": null,
            "_model_module": "@jupyter-widgets/base",
            "top": null,
            "grid_column": null,
            "overflow_y": null,
            "overflow_x": null,
            "grid_auto_flow": null,
            "grid_area": null,
            "grid_template_columns": null,
            "flex": null,
            "_model_name": "LayoutModel",
            "justify_items": null,
            "grid_row": null,
            "max_height": null,
            "align_content": null,
            "visibility": null,
            "align_self": null,
            "height": null,
            "min_height": null,
            "padding": null,
            "grid_auto_rows": null,
            "grid_gap": null,
            "max_width": null,
            "order": null,
            "_view_module_version": "1.2.0",
            "grid_template_areas": null,
            "object_position": null,
            "object_fit": null,
            "grid_auto_columns": null,
            "margin": null,
            "display": null,
            "left": null
          }
        },
        "133e65ca02604f41a30b81f3121d3227": {
          "model_module": "@jupyter-widgets/controls",
          "model_name": "FloatSliderModel",
          "state": {
            "_view_name": "FloatSliderView",
            "style": "IPY_MODEL_340d7c5557f6435e89bf9006fe14f6fa",
            "_dom_classes": [],
            "description": "Cost:",
            "step": 0.01,
            "_model_name": "FloatSliderModel",
            "orientation": "horizontal",
            "max": 1,
            "_view_module": "@jupyter-widgets/controls",
            "_model_module_version": "1.5.0",
            "value": 0.34,
            "_view_count": null,
            "disabled": false,
            "_view_module_version": "1.5.0",
            "min": 0,
            "continuous_update": true,
            "readout_format": ".2f",
            "description_tooltip": null,
            "readout": true,
            "_model_module": "@jupyter-widgets/controls",
            "layout": "IPY_MODEL_fa697dfd78a04e258c863397025a2951"
          }
        },
        "340d7c5557f6435e89bf9006fe14f6fa": {
          "model_module": "@jupyter-widgets/controls",
          "model_name": "SliderStyleModel",
          "state": {
            "_view_name": "StyleView",
            "handle_color": null,
            "_model_name": "SliderStyleModel",
            "description_width": "",
            "_view_module": "@jupyter-widgets/base",
            "_model_module_version": "1.5.0",
            "_view_count": null,
            "_view_module_version": "1.2.0",
            "_model_module": "@jupyter-widgets/controls"
          }
        },
        "fa697dfd78a04e258c863397025a2951": {
          "model_module": "@jupyter-widgets/base",
          "model_name": "LayoutModel",
          "state": {
            "_view_name": "LayoutView",
            "grid_template_rows": null,
            "right": null,
            "justify_content": null,
            "_view_module": "@jupyter-widgets/base",
            "overflow": null,
            "_model_module_version": "1.2.0",
            "_view_count": null,
            "flex_flow": null,
            "width": null,
            "min_width": null,
            "border": null,
            "align_items": null,
            "bottom": null,
            "_model_module": "@jupyter-widgets/base",
            "top": null,
            "grid_column": null,
            "overflow_y": null,
            "overflow_x": null,
            "grid_auto_flow": null,
            "grid_area": null,
            "grid_template_columns": null,
            "flex": null,
            "_model_name": "LayoutModel",
            "justify_items": null,
            "grid_row": null,
            "max_height": null,
            "align_content": null,
            "visibility": null,
            "align_self": null,
            "height": null,
            "min_height": null,
            "padding": null,
            "grid_auto_rows": null,
            "grid_gap": null,
            "max_width": null,
            "order": null,
            "_view_module_version": "1.2.0",
            "grid_template_areas": null,
            "object_position": null,
            "object_fit": null,
            "grid_auto_columns": null,
            "margin": null,
            "display": null,
            "left": null
          }
        },
        "eb39e1e528674e4ab7b58b73b458c3f4": {
          "model_module": "@jupyter-widgets/controls",
          "model_name": "FloatSliderModel",
          "state": {
            "_view_name": "FloatSliderView",
            "style": "IPY_MODEL_b79a71873fa64861bf1c7233317745ea",
            "_dom_classes": [],
            "description": "Exp Growth:",
            "step": 0.01,
            "_model_name": "FloatSliderModel",
            "orientation": "horizontal",
            "max": 1,
            "_view_module": "@jupyter-widgets/controls",
            "_model_module_version": "1.5.0",
            "value": 0,
            "_view_count": null,
            "disabled": false,
            "_view_module_version": "1.5.0",
            "min": 0,
            "continuous_update": true,
            "readout_format": ".2f",
            "description_tooltip": null,
            "readout": true,
            "_model_module": "@jupyter-widgets/controls",
            "layout": "IPY_MODEL_1e79040332e3484eae2f838a54d36f1e"
          }
        },
        "b79a71873fa64861bf1c7233317745ea": {
          "model_module": "@jupyter-widgets/controls",
          "model_name": "SliderStyleModel",
          "state": {
            "_view_name": "StyleView",
            "handle_color": null,
            "_model_name": "SliderStyleModel",
            "description_width": "",
            "_view_module": "@jupyter-widgets/base",
            "_model_module_version": "1.5.0",
            "_view_count": null,
            "_view_module_version": "1.2.0",
            "_model_module": "@jupyter-widgets/controls"
          }
        },
        "1e79040332e3484eae2f838a54d36f1e": {
          "model_module": "@jupyter-widgets/base",
          "model_name": "LayoutModel",
          "state": {
            "_view_name": "LayoutView",
            "grid_template_rows": null,
            "right": null,
            "justify_content": null,
            "_view_module": "@jupyter-widgets/base",
            "overflow": null,
            "_model_module_version": "1.2.0",
            "_view_count": null,
            "flex_flow": null,
            "width": null,
            "min_width": null,
            "border": null,
            "align_items": null,
            "bottom": null,
            "_model_module": "@jupyter-widgets/base",
            "top": null,
            "grid_column": null,
            "overflow_y": null,
            "overflow_x": null,
            "grid_auto_flow": null,
            "grid_area": null,
            "grid_template_columns": null,
            "flex": null,
            "_model_name": "LayoutModel",
            "justify_items": null,
            "grid_row": null,
            "max_height": null,
            "align_content": null,
            "visibility": null,
            "align_self": null,
            "height": null,
            "min_height": null,
            "padding": null,
            "grid_auto_rows": null,
            "grid_gap": null,
            "max_width": null,
            "order": null,
            "_view_module_version": "1.2.0",
            "grid_template_areas": null,
            "object_position": null,
            "object_fit": null,
            "grid_auto_columns": null,
            "margin": null,
            "display": null,
            "left": null
          }
        },
        "d3765d777ef14ea1858813c88e97dd2b": {
          "model_module": "@jupyter-widgets/controls",
          "model_name": "FloatSliderModel",
          "state": {
            "_view_name": "FloatSliderView",
            "style": "IPY_MODEL_53067c36db964be5899301fdcf9df27f",
            "_dom_classes": [],
            "description": "Exp Decay:",
            "step": 0.01,
            "_model_name": "FloatSliderModel",
            "orientation": "horizontal",
            "max": 1,
            "_view_module": "@jupyter-widgets/controls",
            "_model_module_version": "1.5.0",
            "value": 0,
            "_view_count": null,
            "disabled": false,
            "_view_module_version": "1.5.0",
            "min": 0,
            "continuous_update": true,
            "readout_format": ".2f",
            "description_tooltip": null,
            "readout": true,
            "_model_module": "@jupyter-widgets/controls",
            "layout": "IPY_MODEL_2cd5e2e4244e432d924714cf38a93645"
          }
        },
        "53067c36db964be5899301fdcf9df27f": {
          "model_module": "@jupyter-widgets/controls",
          "model_name": "SliderStyleModel",
          "state": {
            "_view_name": "StyleView",
            "handle_color": null,
            "_model_name": "SliderStyleModel",
            "description_width": "",
            "_view_module": "@jupyter-widgets/base",
            "_model_module_version": "1.5.0",
            "_view_count": null,
            "_view_module_version": "1.2.0",
            "_model_module": "@jupyter-widgets/controls"
          }
        },
        "2cd5e2e4244e432d924714cf38a93645": {
          "model_module": "@jupyter-widgets/base",
          "model_name": "LayoutModel",
          "state": {
            "_view_name": "LayoutView",
            "grid_template_rows": null,
            "right": null,
            "justify_content": null,
            "_view_module": "@jupyter-widgets/base",
            "overflow": null,
            "_model_module_version": "1.2.0",
            "_view_count": null,
            "flex_flow": null,
            "width": null,
            "min_width": null,
            "border": null,
            "align_items": null,
            "bottom": null,
            "_model_module": "@jupyter-widgets/base",
            "top": null,
            "grid_column": null,
            "overflow_y": null,
            "overflow_x": null,
            "grid_auto_flow": null,
            "grid_area": null,
            "grid_template_columns": null,
            "flex": null,
            "_model_name": "LayoutModel",
            "justify_items": null,
            "grid_row": null,
            "max_height": null,
            "align_content": null,
            "visibility": null,
            "align_self": null,
            "height": null,
            "min_height": null,
            "padding": null,
            "grid_auto_rows": null,
            "grid_gap": null,
            "max_width": null,
            "order": null,
            "_view_module_version": "1.2.0",
            "grid_template_areas": null,
            "object_position": null,
            "object_fit": null,
            "grid_auto_columns": null,
            "margin": null,
            "display": null,
            "left": null
          }
        },
        "d41a5d9e29164659ba1473df1e5c6daf": {
          "model_module": "@jupyter-widgets/controls",
          "model_name": "CheckboxModel",
          "state": {
            "_view_name": "CheckboxView",
            "style": "IPY_MODEL_4de8fa11e7504e988d6f74ca9eea0984",
            "_dom_classes": [],
            "description": "Show Movements",
            "_model_name": "CheckboxModel",
            "_view_module": "@jupyter-widgets/controls",
            "_model_module_version": "1.5.0",
            "value": true,
            "_view_count": null,
            "disabled": false,
            "_view_module_version": "1.5.0",
            "indent": true,
            "description_tooltip": null,
            "_model_module": "@jupyter-widgets/controls",
            "layout": "IPY_MODEL_886f86022b7449f7b265d2cc9520fe77"
          }
        },
        "4de8fa11e7504e988d6f74ca9eea0984": {
          "model_module": "@jupyter-widgets/controls",
          "model_name": "DescriptionStyleModel",
          "state": {
            "_view_name": "StyleView",
            "_model_name": "DescriptionStyleModel",
            "description_width": "",
            "_view_module": "@jupyter-widgets/base",
            "_model_module_version": "1.5.0",
            "_view_count": null,
            "_view_module_version": "1.2.0",
            "_model_module": "@jupyter-widgets/controls"
          }
        },
        "886f86022b7449f7b265d2cc9520fe77": {
          "model_module": "@jupyter-widgets/base",
          "model_name": "LayoutModel",
          "state": {
            "_view_name": "LayoutView",
            "grid_template_rows": null,
            "right": null,
            "justify_content": null,
            "_view_module": "@jupyter-widgets/base",
            "overflow": null,
            "_model_module_version": "1.2.0",
            "_view_count": null,
            "flex_flow": null,
            "width": null,
            "min_width": null,
            "border": null,
            "align_items": null,
            "bottom": null,
            "_model_module": "@jupyter-widgets/base",
            "top": null,
            "grid_column": null,
            "overflow_y": null,
            "overflow_x": null,
            "grid_auto_flow": null,
            "grid_area": null,
            "grid_template_columns": null,
            "flex": null,
            "_model_name": "LayoutModel",
            "justify_items": null,
            "grid_row": null,
            "max_height": null,
            "align_content": null,
            "visibility": null,
            "align_self": null,
            "height": null,
            "min_height": null,
            "padding": null,
            "grid_auto_rows": null,
            "grid_gap": null,
            "max_width": null,
            "order": null,
            "_view_module_version": "1.2.0",
            "grid_template_areas": null,
            "object_position": null,
            "object_fit": null,
            "grid_auto_columns": null,
            "margin": null,
            "display": null,
            "left": null
          }
        },
        "f3974c72de3243df8abdcfafc7b362b8": {
          "model_module": "@jupyter-widgets/controls",
          "model_name": "ButtonModel",
          "state": {
            "_view_name": "ButtonView",
            "style": "IPY_MODEL_90c31fdb148d41f89606c8e5de47405d",
            "_dom_classes": [],
            "description": "Simulate",
            "_model_name": "ButtonModel",
            "button_style": "",
            "_view_module": "@jupyter-widgets/controls",
            "_model_module_version": "1.5.0",
            "tooltip": "",
            "_view_count": null,
            "disabled": false,
            "_view_module_version": "1.5.0",
            "layout": "IPY_MODEL_d2832335d0ea4ea9936d3f1fcd282680",
            "_model_module": "@jupyter-widgets/controls",
            "icon": ""
          }
        },
        "90c31fdb148d41f89606c8e5de47405d": {
          "model_module": "@jupyter-widgets/controls",
          "model_name": "ButtonStyleModel",
          "state": {
            "_view_name": "StyleView",
            "_model_name": "ButtonStyleModel",
            "_view_module": "@jupyter-widgets/base",
            "_model_module_version": "1.5.0",
            "_view_count": null,
            "button_color": null,
            "font_weight": "",
            "_view_module_version": "1.2.0",
            "_model_module": "@jupyter-widgets/controls"
          }
        },
        "d2832335d0ea4ea9936d3f1fcd282680": {
          "model_module": "@jupyter-widgets/base",
          "model_name": "LayoutModel",
          "state": {
            "_view_name": "LayoutView",
            "grid_template_rows": null,
            "right": null,
            "justify_content": null,
            "_view_module": "@jupyter-widgets/base",
            "overflow": null,
            "_model_module_version": "1.2.0",
            "_view_count": null,
            "flex_flow": null,
            "width": null,
            "min_width": null,
            "border": null,
            "align_items": null,
            "bottom": null,
            "_model_module": "@jupyter-widgets/base",
            "top": null,
            "grid_column": null,
            "overflow_y": null,
            "overflow_x": null,
            "grid_auto_flow": null,
            "grid_area": null,
            "grid_template_columns": null,
            "flex": null,
            "_model_name": "LayoutModel",
            "justify_items": null,
            "grid_row": null,
            "max_height": null,
            "align_content": null,
            "visibility": null,
            "align_self": null,
            "height": null,
            "min_height": null,
            "padding": null,
            "grid_auto_rows": null,
            "grid_gap": null,
            "max_width": null,
            "order": null,
            "_view_module_version": "1.2.0",
            "grid_template_areas": null,
            "object_position": null,
            "object_fit": null,
            "grid_auto_columns": null,
            "margin": null,
            "display": null,
            "left": null
          }
        },
        "52e5d9ccb85d4a639e21f1028d17c84d": {
          "model_module": "@jupyter-widgets/output",
          "model_name": "OutputModel",
          "state": {
            "_view_name": "OutputView",
            "msg_id": "",
            "_dom_classes": [],
            "_model_name": "OutputModel",
            "outputs": [],
            "_view_module": "@jupyter-widgets/output",
            "_model_module_version": "1.0.0",
            "_view_count": null,
            "_view_module_version": "1.0.0",
            "layout": "IPY_MODEL_9c4ecb4b8d984ff1ab5ff0c769ec929b",
            "_model_module": "@jupyter-widgets/output"
          }
        },
        "9c4ecb4b8d984ff1ab5ff0c769ec929b": {
          "model_module": "@jupyter-widgets/base",
          "model_name": "LayoutModel",
          "state": {
            "_view_name": "LayoutView",
            "grid_template_rows": null,
            "right": null,
            "justify_content": null,
            "_view_module": "@jupyter-widgets/base",
            "overflow": null,
            "_model_module_version": "1.2.0",
            "_view_count": null,
            "flex_flow": null,
            "width": null,
            "min_width": null,
            "border": null,
            "align_items": null,
            "bottom": null,
            "_model_module": "@jupyter-widgets/base",
            "top": null,
            "grid_column": null,
            "overflow_y": null,
            "overflow_x": null,
            "grid_auto_flow": null,
            "grid_area": null,
            "grid_template_columns": null,
            "flex": null,
            "_model_name": "LayoutModel",
            "justify_items": null,
            "grid_row": null,
            "max_height": null,
            "align_content": null,
            "visibility": null,
            "align_self": null,
            "height": null,
            "min_height": null,
            "padding": null,
            "grid_auto_rows": null,
            "grid_gap": null,
            "max_width": null,
            "order": null,
            "_view_module_version": "1.2.0",
            "grid_template_areas": null,
            "object_position": null,
            "object_fit": null,
            "grid_auto_columns": null,
            "margin": null,
            "display": null,
            "left": null
          }
        }
      }
    }
  },
  "cells": [
    {
      "cell_type": "markdown",
      "metadata": {
        "id": "view-in-github",
        "colab_type": "text"
      },
      "source": [
        "<a href=\"https://colab.research.google.com/github/ZachPetroff/Babybot/blob/master/Interactive.ipynb\" target=\"_parent\"><img src=\"https://colab.research.google.com/assets/colab-badge.svg\" alt=\"Open In Colab\"/></a>"
      ]
    },
    {
      "cell_type": "code",
      "metadata": {
        "id": "SBMQl1Q6h0cM",
        "outputId": "23cc56c5-0970-41d5-f721-10d3c1f80734",
        "colab": {
          "base_uri": "https://localhost:8080/",
          "height": 34
        }
      },
      "source": [
        "# This code can be used to add a folder in the repository to the Python import\n",
        "# path, irrespective of whether the notebook is being run in colab or Jupyter.\n",
        "# (C) 2020 Abe Leite, Indiana University Bloomington\n",
        "# This code block is released under MIT license. Feel free to make use of\n",
        "# this code in any projects so long as you reproduce this text.\n",
        "\n",
        "import os\n",
        "import sys\n",
        "import subprocess\n",
        "\n",
        "repo_URL = 'https://github.com/ZachPetroff/Babybot'\n",
        "repo_name = repo_URL.split('/')[-1]\n",
        "code_folder = ''\n",
        "\n",
        "try:\n",
        "  repo_path = subprocess.check_output('git rev-parse --show-toplevel', shell=True).decode().strip()\n",
        "except subprocess.CalledProcessError:\n",
        "  os.system(f'git clone {repo_URL} --depth 1')\n",
        "  repo_path = os.path.abspath(repo_name)\n",
        "\n",
        "code_path = os.path.join(repo_path, code_folder)\n",
        "sys.path.append(code_path)\n",
        "print(f'Loading code from {code_path}')"
      ],
      "execution_count": 104,
      "outputs": [
        {
          "output_type": "stream",
          "text": [
            "Loading code from /content/Babybot/\n"
          ],
          "name": "stdout"
        }
      ]
    },
    {
      "cell_type": "code",
      "metadata": {
        "id": "A3pqVr4Dh7Yh"
      },
      "source": [
        "import numpy as np\n",
        "import matplotlib.pyplot as plt\n",
        "import main\n",
        "import graph\n",
        "import simulation\n",
        "\n",
        "from __future__ import print_function\n",
        "from ipywidgets import interact, interactive, fixed, interact_manual\n",
        "import ipywidgets as widgets\n",
        "from IPython.display import display"
      ],
      "execution_count": 105,
      "outputs": []
    },
    {
      "cell_type": "code",
      "metadata": {
        "id": "K3m8hEbLpYbS",
        "outputId": "82503ad5-f5ce-4ffb-c199-307b659a4dec",
        "colab": {
          "base_uri": "https://localhost:8080/",
          "height": 590,
          "referenced_widgets": [
            "0c652f2c558d4b3ab0762286487337fd",
            "b34e6884caa94c64941365f41bb3b3ee",
            "1ffa1928dcb545f2b63dabe516de536a",
            "f389ee4310f745e099d1d66a2059fc16",
            "93d9801ead64476fa847bc5bb1516c5a",
            "0ccaf9d7e90849dfa1fe38dd852345e2",
            "51aed52fa2f54c1daef8d594d570583f",
            "4af8013a60384520a385e48840cb1362",
            "3ede83e5aeba4dcba179fe932304002d",
            "57f18e5b1c01411eb46e950016657aa8",
            "5785fb21c2eb44b591e9d077fae339d5",
            "133e65ca02604f41a30b81f3121d3227",
            "340d7c5557f6435e89bf9006fe14f6fa",
            "fa697dfd78a04e258c863397025a2951",
            "eb39e1e528674e4ab7b58b73b458c3f4",
            "b79a71873fa64861bf1c7233317745ea",
            "1e79040332e3484eae2f838a54d36f1e",
            "d3765d777ef14ea1858813c88e97dd2b",
            "53067c36db964be5899301fdcf9df27f",
            "2cd5e2e4244e432d924714cf38a93645",
            "d41a5d9e29164659ba1473df1e5c6daf",
            "4de8fa11e7504e988d6f74ca9eea0984",
            "886f86022b7449f7b265d2cc9520fe77",
            "f3974c72de3243df8abdcfafc7b362b8",
            "90c31fdb148d41f89606c8e5de47405d",
            "d2832335d0ea4ea9936d3f1fcd282680",
            "52e5d9ccb85d4a639e21f1028d17c84d",
            "9c4ecb4b8d984ff1ab5ff0c769ec929b"
          ]
        }
      },
      "source": [
        "import ipywidgets as widgets\n",
        "from IPython.display import display\n",
        "\n",
        "reward = .01\n",
        "reward_slider = widgets.FloatSlider(value=0,min=0,max=1,step=0.01,description='Reward:')\n",
        "\n",
        "cost = .01\n",
        "cost_slider = widgets.FloatSlider(value=0,min=0,max=1,step=0.01,description='Cost:')\n",
        "\n",
        "exp_growth = .01\n",
        "exp_growth_slider = widgets.FloatSlider(value=0,min=0,max=1,step=0.01,description='Exp Growth:')\n",
        "\n",
        "exp_decay = .01\n",
        "exp_decay_slider = widgets.FloatSlider(value=0,min=0,max=1,step=0.01,description='Exp Decay:')\n",
        "\n",
        "mobile_dynamics = False\n",
        "mobile_dynamics_cb = widgets.Checkbox(value=False,description='Mobile Dynamics')\n",
        "\n",
        "show_movements = False\n",
        "show_movements_cb = widgets.Checkbox(value=False,description='Show Movements')\n",
        "\n",
        "def on_change(v):\n",
        "    reward = v['new'] \n",
        "    cost = v['new']\n",
        "    exp_decay = v['new']\n",
        "    exp_growth = v['new']\n",
        "\n",
        "button = widgets.Button(description=\"Create Model\")\n",
        "output = widgets.Output()\n",
        "display(button, output, mobile_dynamics_cb, reward_slider, cost_slider, exp_growth_slider, exp_decay_slider, show_movements_cb)\n",
        "\n",
        "def create_model(model):\n",
        "    with output:\n",
        "        mobile_dynamics_cb.observe(on_change, names=\"value\")\n",
        "        \n",
        "        reward_slider.observe(on_change, names='value')\n",
        "\n",
        "        cost_slider.observe(on_change, names=\"value\")\n",
        "\n",
        "        exp_growth_slider.observe(on_change, names=\"value\")\n",
        "\n",
        "        exp_decay_slider.observe(on_change, names=\"value\")\n",
        "\n",
        "        show_movements_cb.observe(on_change, names=\"value\")\n",
        "    \n",
        "        button2 = widgets.Button(description=\"Simulate\")\n",
        "        output2 = widgets.Output()\n",
        "        display(button2, output2)\n",
        "        y = button2.on_click(sim)\n",
        "\n",
        "def sim(model):\n",
        "    with output:\n",
        "      print(\"simulating...\")\n",
        "      results = simulation.simulate(rates=[20, 20, 20, 20], reward=reward_slider.value*.1, cost=cost_slider.value*.1, expectation_growth=exp_growth_slider.value*.001, \n",
        "                          expectation_decay=exp_decay_slider.value*.001, mobile_on=mobile_dynamics_cb.value)\n",
        "      print(\"finished.\")\n",
        "      if show_movements_cb.value:\n",
        "        graph.plot_movements(results['separations'], results['connection changes'], results['minutes'], results['right arm movements'], results['left arm movements'],\n",
        "                             results['right leg movements'], results['left leg movements'])\n",
        "\n",
        "x = button.on_click(create_model)"
      ],
      "execution_count": 133,
      "outputs": [
        {
          "output_type": "display_data",
          "data": {
            "application/vnd.jupyter.widget-view+json": {
              "model_id": "0c652f2c558d4b3ab0762286487337fd",
              "version_minor": 0,
              "version_major": 2
            },
            "text/plain": [
              "Button(description='Create Model', style=ButtonStyle())"
            ]
          },
          "metadata": {
            "tags": []
          }
        },
        {
          "output_type": "display_data",
          "data": {
            "application/vnd.jupyter.widget-view+json": {
              "model_id": "f389ee4310f745e099d1d66a2059fc16",
              "version_minor": 0,
              "version_major": 2
            },
            "text/plain": [
              "Output()"
            ]
          },
          "metadata": {
            "tags": []
          }
        },
        {
          "output_type": "display_data",
          "data": {
            "application/vnd.jupyter.widget-view+json": {
              "model_id": "0ccaf9d7e90849dfa1fe38dd852345e2",
              "version_minor": 0,
              "version_major": 2
            },
            "text/plain": [
              "Checkbox(value=False, description='Mobile Dynamics')"
            ]
          },
          "metadata": {
            "tags": []
          }
        },
        {
          "output_type": "display_data",
          "data": {
            "application/vnd.jupyter.widget-view+json": {
              "model_id": "3ede83e5aeba4dcba179fe932304002d",
              "version_minor": 0,
              "version_major": 2
            },
            "text/plain": [
              "FloatSlider(value=0.0, description='Reward:', max=1.0, step=0.01)"
            ]
          },
          "metadata": {
            "tags": []
          }
        },
        {
          "output_type": "display_data",
          "data": {
            "application/vnd.jupyter.widget-view+json": {
              "model_id": "133e65ca02604f41a30b81f3121d3227",
              "version_minor": 0,
              "version_major": 2
            },
            "text/plain": [
              "FloatSlider(value=0.0, description='Cost:', max=1.0, step=0.01)"
            ]
          },
          "metadata": {
            "tags": []
          }
        },
        {
          "output_type": "display_data",
          "data": {
            "application/vnd.jupyter.widget-view+json": {
              "model_id": "eb39e1e528674e4ab7b58b73b458c3f4",
              "version_minor": 0,
              "version_major": 2
            },
            "text/plain": [
              "FloatSlider(value=0.0, description='Exp Growth:', max=1.0, step=0.01)"
            ]
          },
          "metadata": {
            "tags": []
          }
        },
        {
          "output_type": "display_data",
          "data": {
            "application/vnd.jupyter.widget-view+json": {
              "model_id": "d3765d777ef14ea1858813c88e97dd2b",
              "version_minor": 0,
              "version_major": 2
            },
            "text/plain": [
              "FloatSlider(value=0.0, description='Exp Decay:', max=1.0, step=0.01)"
            ]
          },
          "metadata": {
            "tags": []
          }
        },
        {
          "output_type": "display_data",
          "data": {
            "application/vnd.jupyter.widget-view+json": {
              "model_id": "d41a5d9e29164659ba1473df1e5c6daf",
              "version_minor": 0,
              "version_major": 2
            },
            "text/plain": [
              "Checkbox(value=False, description='Show Movements')"
            ]
          },
          "metadata": {
            "tags": []
          }
        }
      ]
    }
  ]
}